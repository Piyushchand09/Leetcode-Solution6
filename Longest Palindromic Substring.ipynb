{
 "cells": [
  {
   "cell_type": "code",
   "execution_count": null,
   "id": "f182d9f4-aa63-41fb-b2c8-36d3817a13d1",
   "metadata": {},
   "outputs": [],
   "source": [
    "# Longest Palindromic Substring\n",
    "class Solution:\n",
    "    def longestPalindrome(self, s: str) -> str:\n",
    "        res = \"\"  # result = empty\n",
    "        resLen = 0  # length = 0\n",
    "        for i in range(len(s)):\n",
    "            l, r = i, i\n",
    "            # The while loop should have the same level of indentation as the assignment above\n",
    "            while l >= 0 and r < len(s) and s[l] == s[r]:  \n",
    "                if (r - l + 1) > resLen:\n",
    "                    res = s[l:r + 1]\n",
    "                    resLen = r - l + 1  # Update resLen here\n",
    "                l -= 1\n",
    "                r += 1\n",
    "            l, r = i, i + 1\n",
    "            # This while loop should also have consistent indentation\n",
    "            while l >= 0 and r < len(s) and s[l] == s[r]:  \n",
    "                if (r - l + 1) > resLen:\n",
    "                    res = s[l:r + 1]\n",
    "                    resLen = r - l + 1  # Update resLen here\n",
    "                l -= 1\n",
    "                r += 1\n",
    "        return res"
   ]
  }
 ],
 "metadata": {
  "kernelspec": {
   "display_name": "Python 3 (ipykernel)",
   "language": "python",
   "name": "python3"
  },
  "language_info": {
   "codemirror_mode": {
    "name": "ipython",
    "version": 3
   },
   "file_extension": ".py",
   "mimetype": "text/x-python",
   "name": "python",
   "nbconvert_exporter": "python",
   "pygments_lexer": "ipython3",
   "version": "3.12.4"
  }
 },
 "nbformat": 4,
 "nbformat_minor": 5
}
